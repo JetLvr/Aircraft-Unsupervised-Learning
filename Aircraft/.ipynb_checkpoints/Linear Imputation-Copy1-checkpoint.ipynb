{
 "cells": [
  {
   "cell_type": "code",
   "execution_count": 1,
   "id": "cf92757b",
   "metadata": {},
   "outputs": [],
   "source": [
    "import pandas as pd\n",
    "import numpy as np\n",
    "import seaborn as sns \n",
    "import matplotlib.pyplot as plt\n",
    "from sklearn.preprocessing import StandardScaler\n",
    "from sklearn.model_selection import train_test_split\n",
    "from sklearn.linear_model import LinearRegression\n",
    "from scipy import stats\n",
    "from skopt import gp_minimize\n",
    "from skopt.plots import plot_convergence\n",
    "from sklearn.feature_selection import SelectKBest,f_regression"
   ]
  },
  {
   "cell_type": "code",
   "execution_count": 2,
   "id": "274835cc",
   "metadata": {},
   "outputs": [],
   "source": [
    "df = pd.read_csv(\"newdata.csv\")"
   ]
  },
  {
   "cell_type": "code",
   "execution_count": 3,
   "id": "570bc35c",
   "metadata": {},
   "outputs": [],
   "source": [
    "lbf_df = df[df.Unit==\"lbf\"].copy()\n",
    "lbf_df = lbf_df.rename(columns={\"Power\":\"PoundForce\"})\n",
    "lbf_df.drop([\"Model\", \"Unit\"], axis=1, inplace=True)"
   ]
  },
  {
   "cell_type": "code",
   "execution_count": 4,
   "id": "4ff82adb",
   "metadata": {},
   "outputs": [],
   "source": [
    "#hp_df[(np.abs(stats.zscore(df)) < 3).all(axis=1)]"
   ]
  },
  {
   "cell_type": "code",
   "execution_count": 5,
   "id": "e6da9210",
   "metadata": {},
   "outputs": [
    {
     "data": {
      "text/plain": [
       "(349, 11)"
      ]
     },
     "execution_count": 5,
     "metadata": {},
     "output_type": "execute_result"
    }
   ],
   "source": [
    "lbf_df.shape"
   ]
  },
  {
   "cell_type": "code",
   "execution_count": 6,
   "id": "0a1adab0",
   "metadata": {},
   "outputs": [
    {
     "data": {
      "text/plain": [
       "(308, 11)"
      ]
     },
     "execution_count": 6,
     "metadata": {},
     "output_type": "execute_result"
    }
   ],
   "source": [
    "outliers_out = lbf_df[(np.abs(stats.zscore(lbf_df)) < 3).all(axis=1)]\n",
    "outliers_out.shape"
   ]
  },
  {
   "cell_type": "code",
   "execution_count": 7,
   "id": "5e0d23f0",
   "metadata": {},
   "outputs": [
    {
     "data": {
      "image/png": "[encoded data removed]",
      "text/plain": [
       "<Figure size 700x200 with 3 Axes>"
      ]
     },
     "metadata": {},
     "output_type": "display_data"
    }
   ],
   "source": [
    "fig, ax = plt.subplots(1,3,figsize=(7,2))\n",
    "sns.histplot(x=\"Power\", data=df, ax=ax[0], hue=\"Unit\")\n",
    "sns.histplot(x=\"PoundForce\", data=lbf_df, ax=ax[1])\n",
    "sns.histplot(x=\"PoundForce\", data=outliers_out, ax=ax[2])\n",
    "plt.tight_layout()\n",
    "plt.show()"
   ]
  },
  {
   "cell_type": "code",
   "execution_count": 8,
   "id": "04abdefc",
   "metadata": {},
   "outputs": [],
   "source": [
    "X = outliers_out.drop(\"PoundForce\", axis=1)\n",
    "y = outliers_out.PoundForce"
   ]
  },
  {
   "cell_type": "code",
   "execution_count": 9,
   "id": "b6253e71",
   "metadata": {},
   "outputs": [],
   "source": [
    "X_train, X_test, y_train, y_test = train_test_split(X, y, test_size=0.33, random_state=42)"
   ]
  },
  {
   "cell_type": "code",
   "execution_count": 10,
   "id": "36e99762",
   "metadata": {},
   "outputs": [],
   "source": [
    "scaler = StandardScaler()"
   ]
  },
  {
   "cell_type": "code",
   "execution_count": 11,
   "id": "b8a06a7b",
   "metadata": {},
   "outputs": [],
   "source": [
    "#pd.DataFrame(ss.fit_transform(df),columns = df.columns)"
   ]
  },
  {
   "cell_type": "code",
   "execution_count": 12,
   "id": "e7bc5e0e",
   "metadata": {},
   "outputs": [],
   "source": [
    "scaled_X_train = scaler.fit_transform(X_train)\n",
    "scaled_X_test = scaler.transform(X_test)"
   ]
  },
  {
   "cell_type": "code",
   "execution_count": 13,
   "id": "1a2d197b",
   "metadata": {},
   "outputs": [
    {
     "name": "stdout",
     "output_type": "stream",
     "text": [
      "LinearRegression()\n",
      "R2: 91.72%\n",
      "AdjR2: 91.30%\n",
      "RMSE: 5,361.15\n",
      "\n",
      "ElasticNet()\n",
      "R2: 84.06%\n",
      "AdjR2: 83.24%\n",
      "RMSE: 7,441.15\n",
      "\n",
      "HuberRegressor()\n",
      "R2: 91.42%\n",
      "AdjR2: 90.98%\n",
      "RMSE: 5,458.73\n",
      "\n",
      "PoissonRegressor()\n",
      "R2: 87.07%\n",
      "AdjR2: 86.40%\n",
      "RMSE: 7,231.63\n",
      "\n",
      "ARDRegression()\n",
      "R2: 91.77%\n",
      "AdjR2: 91.35%\n",
      "RMSE: 5,346.76\n",
      "\n",
      "GradientBoostingRegressor()\n",
      "R2: 93.74%\n",
      "AdjR2: 93.42%\n",
      "RMSE: 4,661.21\n",
      "\n"
     ]
    }
   ],
   "source": [
    "from sklearn.linear_model import LinearRegression\n",
    "from sklearn.linear_model import ElasticNet\n",
    "from sklearn.linear_model import HuberRegressor\n",
    "from sklearn.linear_model import PoissonRegressor\n",
    "from sklearn.linear_model import ARDRegression\n",
    "from sklearn.ensemble import GradientBoostingRegressor\n",
    "from sklearn import metrics\n",
    "\n",
    "models = [\n",
    "    LinearRegression,\n",
    "    ElasticNet,\n",
    "    HuberRegressor,\n",
    "    PoissonRegressor,\n",
    "    ARDRegression,\n",
    "    GradientBoostingRegressor\n",
    "]\n",
    "\n",
    "for model in models:\n",
    "    model = model()\n",
    "    model.fit(scaled_X_train, y_train)\n",
    "    y_pred = model.predict(scaled_X_test)\n",
    "    \n",
    "    rsqr = model.score(scaled_X_test, y_test)\n",
    "    adjr = abs(1 - ((1-rsqr)*(len(X_train)-1)/(len(X_train)-X_train.shape[1]-1)))\n",
    "    rmse = np.sqrt(metrics.mean_squared_error(y_test, y_pred))         \n",
    "            \n",
    "    print(\n",
    "        f\"{model}\\n\"\n",
    "        f\"R2: {rsqr:.2%}\\n\"\n",
    "        f\"AdjR2: {adjr:.2%}\\n\"\n",
    "        f\"RMSE: {rmse:,.2f}\\n\"\n",
    "    )"
   ]
  },
  {
   "cell_type": "code",
   "execution_count": 14,
   "id": "83b11c6e",
   "metadata": {},
   "outputs": [
    {
     "name": "stdout",
     "output_type": "stream",
     "text": [
      "Iteration No: 1 started. Evaluating function at random point.\n",
      "[0.5969161720427683, 422, 86]\n",
      "\n",
      "Iteration No: 1 ended. Evaluation done at random point.\n",
      "Time taken: 0.3086\n",
      "Function value obtained: 24671551.6718\n",
      "Current minimum: 24671551.6718\n",
      "Iteration No: 2 started. Evaluating function at random point.\n",
      "[0.8487792213962844, 312, 40]\n",
      "\n",
      "Iteration No: 2 ended. Evaluation done at random point.\n",
      "Time taken: 0.2260\n",
      "Function value obtained: 47299639.6829\n",
      "Current minimum: 24671551.6718\n",
      "Iteration No: 3 started. Evaluating function at random point.\n",
      "[0.3045592604790276, 29, 29]\n",
      "\n",
      "Iteration No: 3 ended. Evaluation done at random point.\n",
      "Time taken: 0.0238\n",
      "Function value obtained: 28263621.0844\n",
      "Current minimum: 24671551.6718\n",
      "Iteration No: 4 started. Evaluating function at random point.\n",
      "[0.48288846614813646, 406, 49]\n",
      "\n",
      "Iteration No: 4 ended. Evaluation done at random point.\n",
      "Time taken: 0.2884\n",
      "Function value obtained: 24431336.8589\n",
      "Current minimum: 24431336.8589\n",
      "Iteration No: 5 started. Evaluating function at random point.\n",
      "[0.39885694813982153, 418, 35]\n",
      "\n",
      "Iteration No: 5 ended. Evaluation done at random point.\n",
      "Time taken: 0.3025\n",
      "Function value obtained: 25109383.1070\n",
      "Current minimum: 24431336.8589\n",
      "Iteration No: 6 started. Evaluating function at random point.\n",
      "[0.6516901533306854, 185, 96]\n",
      "\n",
      "Iteration No: 6 ended. Evaluation done at random point.\n",
      "Time taken: 0.1321\n",
      "Function value obtained: 29746472.9634\n",
      "Current minimum: 24431336.8589\n",
      "Iteration No: 7 started. Evaluating function at random point.\n",
      "[0.14894727260851873, 435, 48]\n",
      "\n",
      "Iteration No: 7 ended. Evaluation done at random point.\n",
      "Time taken: 0.3100\n",
      "Function value obtained: 25183834.6084\n",
      "Current minimum: 24431336.8589\n",
      "Iteration No: 8 started. Evaluating function at random point.\n",
      "[0.802901644459848, 261, 69]\n",
      "\n",
      "Iteration No: 8 ended. Evaluation done at random point.\n",
      "Time taken: 0.2415\n",
      "Function value obtained: 44459706.7895\n",
      "Current minimum: 24431336.8589\n",
      "Iteration No: 9 started. Evaluating function at random point.\n",
      "[0.7234263281786577, 291, 55]\n",
      "\n",
      "Iteration No: 9 ended. Evaluation done at random point.\n",
      "Time taken: 0.2727\n",
      "Function value obtained: 23978657.0476\n",
      "Current minimum: 23978657.0476\n",
      "Iteration No: 10 started. Evaluating function at random point.\n",
      "[0.7610294680791339, 54, 48]\n",
      "\n",
      "Iteration No: 10 ended. Evaluation done at random point.\n",
      "Time taken: 0.7022\n",
      "Function value obtained: 35165441.3999\n",
      "Current minimum: 23978657.0476\n",
      "Iteration No: 11 started. Searching for the next optimal point.\n",
      "[0.5412961408259421, 1, 96]\n",
      "\n",
      "Iteration No: 11 ended. Search finished for the next optimal point.\n",
      "Time taken: 0.4910\n",
      "Function value obtained: 132484619.9266\n",
      "Current minimum: 23978657.0476\n",
      "Iteration No: 12 started. Searching for the next optimal point.\n",
      "[0.16081428376493762, 35, 7]\n",
      "\n",
      "Iteration No: 12 ended. Search finished for the next optimal point.\n",
      "Time taken: 0.5178\n",
      "Function value obtained: 22795967.9605\n",
      "Current minimum: 22795967.9605\n",
      "Iteration No: 13 started. Searching for the next optimal point.\n",
      "[0.4955886242206307, 60, 15]\n",
      "\n",
      "Iteration No: 13 ended. Search finished for the next optimal point.\n",
      "Time taken: 0.3839\n",
      "Function value obtained: 20072003.2188\n",
      "Current minimum: 20072003.2188\n",
      "Iteration No: 14 started. Searching for the next optimal point.\n",
      "[0.39586531487678933, 76, 16]\n",
      "\n",
      "Iteration No: 14 ended. Search finished for the next optimal point.\n",
      "Time taken: 0.5717\n",
      "Function value obtained: 21264496.6316\n",
      "Current minimum: 20072003.2188\n",
      "Iteration No: 15 started. Searching for the next optimal point.\n",
      "[0.49768006679708227, 59, 15]\n",
      "\n",
      "Iteration No: 15 ended. Search finished for the next optimal point.\n",
      "Time taken: 0.4671\n",
      "Function value obtained: 21912699.2022\n",
      "Current minimum: 20072003.2188\n",
      "Iteration No: 16 started. Searching for the next optimal point.\n",
      "[0.26858723592192707, 301, 73]\n",
      "\n",
      "Iteration No: 16 ended. Search finished for the next optimal point.\n",
      "Time taken: 0.6085\n",
      "Function value obtained: 23697408.1374\n",
      "Current minimum: 20072003.2188\n",
      "Iteration No: 17 started. Searching for the next optimal point.\n",
      "[0.8653492547450198, 70, 3]\n",
      "\n",
      "Iteration No: 17 ended. Search finished for the next optimal point.\n",
      "Time taken: 0.4645\n",
      "Function value obtained: 46728332.8777\n",
      "Current minimum: 20072003.2188\n",
      "Iteration No: 18 started. Searching for the next optimal point.\n",
      "[0.01, 37, 13]\n",
      "\n",
      "Iteration No: 18 ended. Search finished for the next optimal point.\n",
      "Time taken: 0.4381\n",
      "Function value obtained: 198964961.6081\n",
      "Current minimum: 20072003.2188\n",
      "Iteration No: 19 started. Searching for the next optimal point.\n",
      "[0.49405564530807833, 68, 16]\n",
      "\n",
      "Iteration No: 19 ended. Search finished for the next optimal point.\n",
      "Time taken: 0.4556\n",
      "Function value obtained: 26312079.7955\n",
      "Current minimum: 20072003.2188\n",
      "Iteration No: 20 started. Searching for the next optimal point.\n",
      "[0.6085537405702297, 454, 62]\n",
      "\n",
      "Iteration No: 20 ended. Search finished for the next optimal point.\n",
      "Time taken: 0.8954\n",
      "Function value obtained: 26759973.1249\n",
      "Current minimum: 20072003.2188\n",
      "Iteration No: 21 started. Searching for the next optimal point.\n",
      "[0.3847569200470978, 1, 3]\n",
      "\n",
      "Iteration No: 21 ended. Search finished for the next optimal point.\n",
      "Time taken: 0.5876\n",
      "Function value obtained: 200666257.4284\n",
      "Current minimum: 20072003.2188\n",
      "Iteration No: 22 started. Searching for the next optimal point.\n",
      "[1.0, 429, 36]\n",
      "\n",
      "Iteration No: 22 ended. Search finished for the next optimal point.\n",
      "Time taken: 1.1467\n",
      "Function value obtained: 68940524.4064\n",
      "Current minimum: 20072003.2188\n",
      "Iteration No: 23 started. Searching for the next optimal point.\n",
      "[0.24769314688722693, 43, 30]\n",
      "\n",
      "Iteration No: 23 ended. Search finished for the next optimal point.\n",
      "Time taken: 0.6044\n",
      "Function value obtained: 24158475.5289\n",
      "Current minimum: 20072003.2188\n",
      "Iteration No: 24 started. Searching for the next optimal point.\n",
      "[0.4127985489608412, 58, 28]\n",
      "\n",
      "Iteration No: 24 ended. Search finished for the next optimal point.\n",
      "Time taken: 0.6237\n",
      "Function value obtained: 21066655.4711\n",
      "Current minimum: 20072003.2188\n",
      "Iteration No: 25 started. Searching for the next optimal point.\n",
      "[0.21369105328487617, 28, 13]\n",
      "\n",
      "Iteration No: 25 ended. Search finished for the next optimal point.\n",
      "Time taken: 0.6670\n",
      "Function value obtained: 21694760.6363\n",
      "Current minimum: 20072003.2188\n",
      "Iteration No: 26 started. Searching for the next optimal point.\n",
      "[0.4863907494780747, 440, 91]\n",
      "\n",
      "Iteration No: 26 ended. Search finished for the next optimal point.\n",
      "Time taken: 1.0491\n",
      "Function value obtained: 22410024.7324\n",
      "Current minimum: 20072003.2188\n",
      "Iteration No: 27 started. Searching for the next optimal point.\n",
      "[0.18406279901653108, 34, 8]\n",
      "\n",
      "Iteration No: 27 ended. Search finished for the next optimal point.\n",
      "Time taken: 0.7648\n",
      "Function value obtained: 20495626.5505\n",
      "Current minimum: 20072003.2188\n",
      "Iteration No: 28 started. Searching for the next optimal point.\n",
      "[0.4878650069076068, 60, 15]\n",
      "\n",
      "Iteration No: 28 ended. Search finished for the next optimal point.\n",
      "Time taken: 0.5422\n",
      "Function value obtained: 21234170.2683\n",
      "Current minimum: 20072003.2188\n",
      "Iteration No: 29 started. Searching for the next optimal point.\n",
      "[0.24435540351478965, 61, 21]\n",
      "\n",
      "Iteration No: 29 ended. Search finished for the next optimal point.\n",
      "Time taken: 0.7371\n",
      "Function value obtained: 23228167.2239\n",
      "Current minimum: 20072003.2188\n",
      "Iteration No: 30 started. Searching for the next optimal point.\n",
      "[0.3789612084149755, 65, 23]\n",
      "\n",
      "Iteration No: 30 ended. Search finished for the next optimal point.\n",
      "Time taken: 0.6484\n",
      "Function value obtained: 28660646.1754\n",
      "Current minimum: 20072003.2188\n"
     ]
    }
   ],
   "source": [
    "def train_model(params):\n",
    "    \"\"\"Called within 'gp_minimize' to train the model with \n",
    "    the selected parameters and return its MSE\"\"\"\n",
    "    \n",
    "    learning_rate = params[0]\n",
    "    n_estimators = params[1]\n",
    "    max_leaf_nodes = params[2]\n",
    "    \n",
    "    print(f\"{params}\\n\")\n",
    "    \n",
    "    mdl = GradientBoostingRegressor(\n",
    "        learning_rate = learning_rate,\n",
    "        n_estimators = n_estimators,\n",
    "        max_leaf_nodes = max_leaf_nodes,  \n",
    "        random_state = 0\n",
    "    )\n",
    "    mdl.fit(scaled_X_train, y_train)\n",
    "    y_pred = mdl.predict(scaled_X_test)\n",
    "    return metrics.mean_squared_error(y_test, y_pred)\n",
    "\n",
    "#Defining parameters to search\n",
    "space = [\n",
    "    (0.01, 1),\n",
    "    (1, 500),\n",
    "    (2, 100)\n",
    "]\n",
    "#Bayesian optimization using Gaussian Processes\n",
    "result = gp_minimize(train_model, space, random_state=0, \n",
    "                     verbose=1, n_calls=30, n_random_starts=10)"
   ]
  },
  {
   "cell_type": "code",
   "execution_count": 15,
   "id": "f47799e4",
   "metadata": {},
   "outputs": [
    {
     "data": {
      "image/png": "[encoded data removed]",
      "text/plain": [
       "<Figure size 640x480 with 1 Axes>"
      ]
     },
     "metadata": {},
     "output_type": "display_data"
    }
   ],
   "source": [
    "plot_convergence(result)\n",
    "plt.show()"
   ]
  },
  {
   "cell_type": "code",
   "execution_count": 16,
   "id": "8bfa88c5",
   "metadata": {},
   "outputs": [
    {
     "name": "stdout",
     "output_type": "stream",
     "text": [
      "R2: 94.22%\n",
      "AdjR2: 93.92%\n",
      "RMSE: 4,480.18\n",
      "\n"
     ]
    }
   ],
   "source": [
    "#Selected Hyperparameters\n",
    "res_params = result.x\n",
    "\n",
    "#Model Re-fitting  \n",
    "model = GradientBoostingRegressor(\n",
    "    learning_rate = res_params[0],\n",
    "    n_estimators = res_params[1],\n",
    "    max_leaf_nodes = res_params[2],\n",
    "    random_state = 0\n",
    "    )\n",
    "model.fit(scaled_X_train, y_train)\n",
    "y_pred = model.predict(scaled_X_test)\n",
    "\n",
    "rsqr = model.score(scaled_X_test, y_test)\n",
    "adjr = abs(1 - ((1-rsqr)*(len(X_train)-1)/(len(X_train)-X_train.shape[1]-1)))\n",
    "rmse = np.sqrt(metrics.mean_squared_error(y_test, y_pred))         \n",
    "            \n",
    "print(\n",
    "    f\"R2: {rsqr:.2%}\\n\"\n",
    "    f\"AdjR2: {adjr:.2%}\\n\"\n",
    "    f\"RMSE: {rmse:,.2f}\\n\"\n",
    ")"
   ]
  },
  {
   "cell_type": "code",
   "execution_count": 17,
   "id": "2aa3a98a",
   "metadata": {},
   "outputs": [
    {
     "name": "stdout",
     "output_type": "stream",
     "text": [
      "k:10 - RMSE:4480.1789270985755\n"
     ]
    },
    {
     "data": {
      "image/png": "[encoded data removed]",
      "text/plain": [
       "<Figure size 1000x400 with 1 Axes>"
      ]
     },
     "metadata": {},
     "output_type": "display_data"
    }
   ],
   "source": [
    "k_score = []\n",
    "for k in range(1,scaled_X_train.shape[1]+1):\n",
    "    fs = SelectKBest(score_func=f_regression, k=k)\n",
    "    fs_train = fs.fit_transform(scaled_X_train, y_train)\n",
    "    fs_test = fs.transform(scaled_X_test)\n",
    "    \n",
    "    model.fit(fs_train, y_train)\n",
    "    y_pred = model.predict(fs_test)\n",
    "    score = np.sqrt(metrics.mean_squared_error(y_test, y_pred))\n",
    "    k_score.append(score)\n",
    "\n",
    "k_best = 0     \n",
    "for k,s in enumerate(k_score, 1):\n",
    "    if s == min(k_score):\n",
    "        k_best = k\n",
    "        print(f\"k:{k} - RMSE:{s}\")\n",
    "    \n",
    "plt.figure(figsize=(10,4))\n",
    "sns.lineplot(data=k_score)\n",
    "plt.show()"
   ]
  },
  {
   "cell_type": "code",
   "execution_count": 18,
   "id": "a2e7c387",
   "metadata": {},
   "outputs": [
    {
     "name": "stdout",
     "output_type": "stream",
     "text": [
      "R2: 94.22%\n",
      "AdjR2: 93.92%\n",
      "RMSE: 4,480.18\n",
      "\n"
     ]
    }
   ],
   "source": [
    "fs = SelectKBest(score_func=f_regression, k=k_best)\n",
    "fs_train = fs.fit_transform(scaled_X_train, y_train)\n",
    "fs_test = fs.transform(scaled_X_test)\n",
    "    \n",
    "model.fit(fs_train, y_train)\n",
    "y_pred = model.predict(fs_test)\n",
    "\n",
    "rsqr = model.score(fs_test, y_test)\n",
    "adjr = abs(1 - ((1-rsqr)*(len(fs_train)-1)/(len(fs_train)-fs_train.shape[1]-1)))\n",
    "rmse = np.sqrt(metrics.mean_squared_error(y_test, y_pred))         \n",
    "            \n",
    "print(\n",
    "    f\"R2: {rsqr:.2%}\\n\"\n",
    "    f\"AdjR2: {adjr:.2%}\\n\"\n",
    "    f\"RMSE: {rmse:,.2f}\\n\"\n",
    ")"
   ]
  },
  {
   "cell_type": "code",
   "execution_count": 19,
   "id": "f07bfe03",
   "metadata": {},
   "outputs": [
    {
     "data": {
      "text/plain": [
       "0.9994083098371503"
      ]
     },
     "execution_count": 19,
     "metadata": {},
     "output_type": "execute_result"
    }
   ],
   "source": [
    "scaler2 = StandardScaler()\n",
    "X = scaler2.fit_transform(X)\n",
    "model.fit(X,y)\n",
    "model.score(X,y)"
   ]
  },
  {
   "cell_type": "code",
   "execution_count": 20,
   "id": "7634ad70",
   "metadata": {},
   "outputs": [],
   "source": [
    "hp_df = df[df.Unit==\"hp\"].iloc[:,3:]"
   ]
  },
  {
   "cell_type": "code",
   "execution_count": 21,
   "id": "1830d596",
   "metadata": {},
   "outputs": [],
   "source": [
    "new_X = scaler2.transform(hp_df)"
   ]
  },
  {
   "cell_type": "code",
   "execution_count": 22,
   "id": "3647c8eb",
   "metadata": {},
   "outputs": [],
   "source": [
    "preds = model.predict(new_X).reshape(-1,1).round()"
   ]
  },
  {
   "cell_type": "code",
   "execution_count": 23,
   "id": "52a43ab9",
   "metadata": {},
   "outputs": [
    {
     "data": {
      "text/plain": [
       "410"
      ]
     },
     "execution_count": 23,
     "metadata": {},
     "output_type": "execute_result"
    }
   ],
   "source": [
    "len(preds)"
   ]
  },
  {
   "cell_type": "code",
   "execution_count": 24,
   "id": "5a87f276",
   "metadata": {},
   "outputs": [],
   "source": [
    "hp_df.insert(0,\"lbfPred\",preds)"
   ]
  },
  {
   "cell_type": "code",
   "execution_count": 25,
   "id": "a597ed23",
   "metadata": {},
   "outputs": [
    {
     "data": {
      "text/plain": [
       "34     17962.0\n",
       "36     10990.0\n",
       "38      2407.0\n",
       "39     15423.0\n",
       "40     13230.0\n",
       "        ...   \n",
       "753     3744.0\n",
       "754    48243.0\n",
       "755    17931.0\n",
       "757     1297.0\n",
       "758     4005.0\n",
       "Name: lbfPred, Length: 410, dtype: float64"
      ]
     },
     "execution_count": 25,
     "metadata": {},
     "output_type": "execute_result"
    }
   ],
   "source": [
    "hp_df[\"lbfPred\"]"
   ]
  },
  {
   "cell_type": "code",
   "execution_count": 26,
   "id": "71bdc921",
   "metadata": {},
   "outputs": [
    {
     "data": {
      "text/html": [
       "<div>\n",
       "<style scoped>\n",
       "    .dataframe tbody tr th:only-of-type {\n",
       "        vertical-align: middle;\n",
       "    }\n",
       "\n",
       "    .dataframe tbody tr th {\n",
       "        vertical-align: top;\n",
       "    }\n",
       "\n",
       "    .dataframe thead th {\n",
       "        text-align: right;\n",
       "    }\n",
       "</style>\n",
       "<table border=\"1\" class=\"dataframe\">\n",
       "  <thead>\n",
       "    <tr style=\"text-align: right;\">\n",
       "      <th></th>\n",
       "      <th>Power</th>\n",
       "      <th>Unit</th>\n",
       "    </tr>\n",
       "  </thead>\n",
       "  <tbody>\n",
       "    <tr>\n",
       "      <th>0</th>\n",
       "      <td>76000.0</td>\n",
       "      <td>lbf</td>\n",
       "    </tr>\n",
       "    <tr>\n",
       "      <th>1</th>\n",
       "      <td>81500.0</td>\n",
       "      <td>lbf</td>\n",
       "    </tr>\n",
       "    <tr>\n",
       "      <th>2</th>\n",
       "      <td>53000.0</td>\n",
       "      <td>lbf</td>\n",
       "    </tr>\n",
       "    <tr>\n",
       "      <th>3</th>\n",
       "      <td>74000.0</td>\n",
       "      <td>lbf</td>\n",
       "    </tr>\n",
       "    <tr>\n",
       "      <th>4</th>\n",
       "      <td>61500.0</td>\n",
       "      <td>lbf</td>\n",
       "    </tr>\n",
       "    <tr>\n",
       "      <th>...</th>\n",
       "      <td>...</td>\n",
       "      <td>...</td>\n",
       "    </tr>\n",
       "    <tr>\n",
       "      <th>754</th>\n",
       "      <td>48243.0</td>\n",
       "      <td>hp</td>\n",
       "    </tr>\n",
       "    <tr>\n",
       "      <th>755</th>\n",
       "      <td>17931.0</td>\n",
       "      <td>hp</td>\n",
       "    </tr>\n",
       "    <tr>\n",
       "      <th>756</th>\n",
       "      <td>35000.0</td>\n",
       "      <td>lbf</td>\n",
       "    </tr>\n",
       "    <tr>\n",
       "      <th>757</th>\n",
       "      <td>1297.0</td>\n",
       "      <td>hp</td>\n",
       "    </tr>\n",
       "    <tr>\n",
       "      <th>758</th>\n",
       "      <td>4005.0</td>\n",
       "      <td>hp</td>\n",
       "    </tr>\n",
       "  </tbody>\n",
       "</table>\n",
       "<p>759 rows × 2 columns</p>\n",
       "</div>"
      ],
      "text/plain": [
       "       Power Unit\n",
       "0    76000.0  lbf\n",
       "1    81500.0  lbf\n",
       "2    53000.0  lbf\n",
       "3    74000.0  lbf\n",
       "4    61500.0  lbf\n",
       "..       ...  ...\n",
       "754  48243.0   hp\n",
       "755  17931.0   hp\n",
       "756  35000.0  lbf\n",
       "757   1297.0   hp\n",
       "758   4005.0   hp\n",
       "\n",
       "[759 rows x 2 columns]"
      ]
     },
     "execution_count": 26,
     "metadata": {},
     "output_type": "execute_result"
    }
   ],
   "source": [
    "new_df = df.iloc[:,1:3]\n",
    "new_df.loc[new_df.Unit==\"hp\",\"Power\"] = hp_df[\"lbfPred\"]\n",
    "new_df"
   ]
  },
  {
   "cell_type": "code",
   "execution_count": 27,
   "id": "d843ae54",
   "metadata": {},
   "outputs": [],
   "source": [
    "import seaborn as sns  \n",
    "import matplotlib.pyplot as plt"
   ]
  },
  {
   "cell_type": "code",
   "execution_count": 28,
   "id": "18fb203d",
   "metadata": {},
   "outputs": [
    {
     "name": "stderr",
     "output_type": "stream",
     "text": [
      "/home/brunovalle/miniconda3/envs/air-env/lib/python3.10/site-packages/pandas/core/arraylike.py:402: RuntimeWarning: invalid value encountered in log2\n",
      "  result = getattr(ufunc, method)(*inputs, **kwargs)\n"
     ]
    }
   ],
   "source": [
    "new_df[\"log2\"] = np.log2(new_df[\"Power\"])"
   ]
  },
  {
   "cell_type": "code",
   "execution_count": 29,
   "id": "7691bb4b",
   "metadata": {},
   "outputs": [
    {
     "data": {
      "image/png": "[encoded data removed]",
      "text/plain": [
       "<Figure size 800x250 with 3 Axes>"
      ]
     },
     "metadata": {},
     "output_type": "display_data"
    }
   ],
   "source": [
    "fig, axes = plt.subplots(1,3,figsize=(8,2.5))\n",
    "sns.histplot(x=\"Power\", data=df, ax=axes[0], hue=\"Unit\")\n",
    "sns.histplot(x=\"Power\", data=new_df, ax=axes[1], hue=\"Unit\")\n",
    "sns.histplot(x=\"log2\", data=new_df, ax=axes[2], hue=\"Unit\")\n",
    "plt.tight_layout()\n",
    "plt.show()"
   ]
  },
  {
   "cell_type": "code",
   "execution_count": 30,
   "id": "15469fdf",
   "metadata": {},
   "outputs": [],
   "source": [
    "df.insert(2,\"lbfPred\",new_df.Power)"
   ]
  },
  {
   "cell_type": "code",
   "execution_count": 32,
   "id": "a2297e18",
   "metadata": {},
   "outputs": [],
   "source": [
    "#df.to_csv(\"imputed.csv\",index=False)"
   ]
  },
  {
   "cell_type": "code",
   "execution_count": null,
   "id": "12c74c33",
   "metadata": {},
   "outputs": [],
   "source": []
  }
 ],
 "metadata": {
  "kernelspec": {
   "display_name": "Python 3 (ipykernel)",
   "language": "python",
   "name": "python3"
  },
  "language_info": {
   "codemirror_mode": {
    "name": "ipython",
    "version": 3
   },
   "file_extension": ".py",
   "mimetype": "text/x-python",
   "name": "python",
   "nbconvert_exporter": "python",
   "pygments_lexer": "ipython3",
   "version": "3.10.9"
  }
 },
 "nbformat": 4,
 "nbformat_minor": 5
}
